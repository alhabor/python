<!DOCTYPE HTML>
<html>

<head>
    <meta charset="utf-8">

    <title>Jupyter Notebook</title>
    <link rel="shortcut icon" type="image/x-icon" href="/user/f3b83f2b/static/base/images/favicon-notebook.ico?v=9e5fb7f8501d94094806320e718be6b3">
    <meta http-equiv="X-UA-Compatible" content="IE=edge" />
    <link rel="stylesheet" href="https://cdn.jsdelivr.net/semantic-ui/2.2/semantic.min.css">
    <script src="https://cdn.jsdelivr.net/semantic-ui/2.2/semantic.min.js"></script>
    <link rel="stylesheet" href="/user/f3b83f2b/static/components/jquery-ui/themes/smoothness/jquery-ui.min.css?v=9b2c8d3489227115310662a343fce11c" type="text/css" />
    <link rel="stylesheet" href="/user/f3b83f2b/static/components/jquery-typeahead/dist/jquery.typeahead.min.css?v=7afb461de36accb1aa133a1710f5bc56" type="text/css" />
    <meta name="viewport" content="width=device-width, initial-scale=1.0">

    


<script type="text/javascript" src="/user/f3b83f2b/static/components/MathJax/MathJax.js?config=TeX-AMS-MML_HTMLorMML-full,Safe&delayStartupUntil=configured" charset="utf-8"></script>

<script type="text/javascript">
// MathJax disabled, set as null to distingish from *missing* MathJax,
// where it will be undefined, and should prompt a dialog later.
window.mathjax_url = "/user/f3b83f2b/static/components/MathJax/MathJax.js";
</script>

<link rel="stylesheet" href="/user/f3b83f2b/static/components/bootstrap-tour/build/css/bootstrap-tour.min.css?v=d0b3c2fce6056a2ddd5a4513762a94c4" type="text/css" />
<link rel="stylesheet" href="/user/f3b83f2b/static/components/codemirror/lib/codemirror.css?v=f25e9a9159e54b423b5a8dc4b1ab5c6e">


    <link rel="stylesheet" href="/user/f3b83f2b/static/style/style.min.css?v=c5747f884b043af480e765425be026b3" type="text/css"/>
    

<link rel="stylesheet" href="/user/f3b83f2b/static/notebook/css/override.css?v=e6f18013b8771987812e992b38ec3318" type="text/css" />
<link rel="stylesheet" href=""  id='kernel-css'                             type="text/css" />


    <link rel="stylesheet" href="/user/f3b83f2b/custom/custom.css" type="text/css" />
    <script src="/user/f3b83f2b/static/components/es6-promise/promise.min.js?v=f004a16cb856e0ff11781d01ec5ca8fe" type="text/javascript" charset="utf-8"></script>
    <script src="/user/f3b83f2b/static/components/preact/index.js?v=00a2fac73c670ce39ac53d26640eb542" type="text/javascript"></script>
    <script src="/user/f3b83f2b/static/components/proptypes/index.js?v=c40890eb04df9811fcc4d47e53a29604" type="text/javascript"></script>
    <script src="/user/f3b83f2b/static/components/preact-compat/index.js?v=4800c302ae4f8394a621cb21a1e4aab3" type="text/javascript"></script>
    <script src="/user/f3b83f2b/static/components/requirejs/require.js?v=6da8be361b9ee26c5e721e76c6d4afce" type="text/javascript" charset="utf-8"></script>
    <script>
      require.config({
          
          baseUrl: '/user/f3b83f2b/static/',
          paths: {
            'auth/js/main': 'auth/js/main.min',
            custom : '/user/f3b83f2b/custom',
            nbextensions : '/user/f3b83f2b/nbextensions',
            kernelspecs : '/user/f3b83f2b/kernelspecs',
            underscore : 'components/underscore/underscore-min',
            backbone : 'components/backbone/backbone-min',
            jquery: 'components/jquery/jquery.min',
            bootstrap: 'components/bootstrap/js/bootstrap.min',
            bootstraptour: 'components/bootstrap-tour/build/js/bootstrap-tour.min',
            'jquery-ui': 'components/jquery-ui/ui/minified/jquery-ui.min',
            moment: 'components/moment/moment',
            codemirror: 'components/codemirror',
            termjs: 'components/xterm.js/dist/xterm',
            typeahead: 'components/jquery-typeahead/dist/jquery.typeahead.min',
          },
          map: { // for backward compatibility
              "*": {
                  "jqueryui": "jquery-ui",
              }
          },
          shim: {
            typeahead: {
              deps: ["jquery"],
              exports: "typeahead"
            },
            underscore: {
              exports: '_'
            },
            backbone: {
              deps: ["underscore", "jquery"],
              exports: "Backbone"
            },
            bootstrap: {
              deps: ["jquery"],
              exports: "bootstrap"
            },
            bootstraptour: {
              deps: ["bootstrap"],
              exports: "Tour"
            },
            "jquery-ui": {
              deps: ["jquery"],
              exports: "$"
            }
          },
          waitSeconds: 30,
      });

      require.config({
          map: {
              '*':{
                'contents': 'services/contents',
              }
          }
      });

      // error-catching custom.js shim.
      define("custom", function (require, exports, module) {
          try {
              var custom = require('custom/custom');
              console.debug('loaded custom.js');
              return custom;
          } catch (e) {
              console.error("error loading custom.js", e);
              return {};
          }
      })
    </script>

    
    

</head>

<body class="notebook_app "
 


  
 
data-base-url="/user/f3b83f2b/"
data-ws-url=""
data-notebook-name="exam_python.ipynb"
data-notebook-path="exam_python.ipynb"

dir="ltr">

<style>
.fm1 {
  opacity: 1;
  background-color: rgb(224, 225, 226);
  width: 100%;
  height: 50%;
  z-index: 10;
  top: 0px;
  left: 0px;
  position: fixed;
}

.fm2 {
  opacity: 1;
  background-color: rgb(213, 214, 215);
  width: 100%;
  height: 100%;
  z-index: 10;
  top: 50%;
  left: 0px;
  position: fixed;
}

.fmtext1 {
  position: absolute;
  bottom: 0;
  left: 50%;
  transform: translateX(-50%);
}

.fmtext2 {
  text-align: center;
  margin-top: 20px;
}

.fmtext1 > p {
  font-size: 0em;
}

.fmtext2 > p {
  font-size: 3em;
}
</style>

<div id="restart_kernel_dimmer" class="ui page dimmer">
  <div class="content">
    <div class="center">
      <h2 class="ui inverted icon header">
        <i class="repeat icon"></i>
        Restarting kernel
        <div class="sub header">Please wait...</div>
        </h2>
      </div>
  </div>
</div>

<noscript>
    <div id='noscript'>
      Jupyter Notebook requires JavaScript.<br>
      Please enable it to proceed.
  </div>
</noscript>

<style>
.ui.bcgcolor.button {
  background-color: transparent;
  box-shadow: 0px 0px 0px 2px #007F5F inset !important;
  color: #007F5F;
}
.ui.bcgcolor.button:hover {
  background-color: #007F5F;
  box-shadow: 0px 0px 0px 2px #007F5F inset !important;
  color: white;
}
.ui.bcgcolor.button:active {
  background-color: #01664c;
  box-shadow: 0px 0px 0px 2px #01664c inset !important;
  color: white;
}
.ui.bcgcolor.button:focus {
  background-color: #01664c;
  box-shadow: 0px 0px 0px 2px #01664c inset !important;
  color: white;
}
</style>

<div class="hidden" id="header" style="background-color: rgb(14, 102, 85); display:block;">
  <link rel="stylesheet" href="https://cdn.jsdelivr.net/semantic-ui/2.2/semantic.min.css">
  <script src="https://cdn.jsdelivr.net/semantic-ui/2.2/semantic.min.js"></script>
  <div class="ui fixed menu">
    <div class="ui container">
      <a href="#" class="header disabled item" style="color: black;">
        <img class="logo" src="http://datascientest.fr/eval/image/DataScientest.png"></a>
      <a id="btn_run_cell" href="#" class="item"><i class="bullseye icon"></i>Run cell</a>
      <a id="btn_clear_current_output" href="#" class="item"><i class="erase icon"></i>Clear output</a>
      <a id="btn_restart_kernel" href="#" class="item"><i class="repeat icon"></i>Restart kernel</a>
      <!-- <a href="#" class="right item"><i class="check square icon"></i>Terminer l'exercice</a> -->
      <div class="right item" style="padding-right: 0;">
        <div id="time_button" class="ui left labeled button" tabindex="0" style="padding:0;">
        <a id="time" class="ui basic label"><div></div></a>
          <div class="ui icon button">
            <i id="hide_icon" class="hide icon" style="display: block !important;"></i>
          </div>
        </div>

        <div id="finish_button" class="ui labeled icon bcgcolor button" style="margin-left: 10px;">
          <i class="check square icon"></i>Terminate
        </div>
      </div>
    </div>
  </div>
</div>

<div id="site">
  <div class="row" style="height: 100%">
    <!-- <div id="sidebar" class="col-sm-2" style="height: 100%; z-index: 800; position: fixed; background-color: #0E6655; padding: 0px; display: flex; flex-flow: column;">
      
<div id="sidebar-list" style="overflow-y: auto; overflow-x: hidden; flex-grow: 1">
  <div class="list-group" style="margin:0px">

    

  </div>
</div>

<div style="z-index: 900; min-height: 80px; padding-top: 5px">
  <div class="btn-group btn-group-justified" role="group">

    <a id="dst-btn-valid" href="#"
       class="btn btn-danger btn-lg"
       data-toggle="tooltip" title="Valider l'exercice">
     <i class="fa fa-minus-square"></i>
    </a>
    <a id="dst-btn-comment" href="#"
       class="btn btn-info btn-lg hidden"
       data-toggle="tooltip" title="Ajouter/éditer un commentaire">
     <i class="fa fa-pencil-square-o"></i>
    </a>
    <a id="dst-btn-help" href="#"
       class="btn btn-warning btn-lg"
       data-toggle="tooltip" title="Demander de l'aide">
     <i class="fa fa-question-circle"></i>
    </a>

  </div>
</div>

    </div> -->
    <div class="col-sm-8 col-sm-offset-2">
      
<div class="fm1">
  <div class="fmtext1"><p>45:00</p></div>
</div>

<div class="fm2">
  <div id="progress_bar" style="
    width: 0%;
    height: 5px;
    background-color: #007F5F;"></div>
  <div class="fmtext2"><p>Loading...</p></div>
</div>

<div class="ui basic modal">
  <div class="ui icon header">
    <i class="check square icon"></i>
    Do you want to validate your test ? You will not be able to change it
  </div>
  <div class="actions">
    <div class="ui red basic cancel inverted button">
      <i class="remove icon"></i>
      No
    </div>
    <div class="ui green ok inverted button">
      <i class="checkmark icon"></i>
      Yes
    </div>
  </div>
</div>

<div id="menubar-container" class="container-fluid" style="position:fixed; z-index: 50; width: inherit; display:none;">
<div id="menubar">
    <div id="menus" class="navbar navbar-default" role="navigation">
        <div class="container-fluid">
            <button type="button" class="btn btn-default navbar-btn navbar-toggle" data-toggle="collapse" data-target=".navbar-collapse">
              <i class="fa fa-bars"></i>
              <span class="navbar-text">Menu</span>
            </button>
            <p id="kernel_indicator" class="navbar-text indicator_area">
              <span class="kernel_indicator_name">Kernel</span>
              <i id="kernel_indicator_icon"></i>
            </p>
            <i id="readonly-indicator" class="navbar-text" title='This notebook is read-only'>
                <span class="fa-stack">
                    <i class="fa fa-save fa-stack-1x"></i>
                    <i class="fa fa-ban fa-stack-2x text-danger"></i>
                </span>
            </i>
            <i id="modal_indicator" class="navbar-text"></i>
            <span id="notification_area"></span>
            <span id="kernel_logo_widget" style="margin-right: 30px">
              
              <img class="current_kernel_logo" src="data:image/gif;base64,R0lGODlhAQABAIAAAAAAAP///yH5BAEAAAAALAAAAAABAAEAAAIBRAA7"/>
              
            </span>
            <div class="navbar-collapse collapse" style="color: transparent">
              <ul class="nav navbar-nav">
                <li id="run_cell" title="Run this cell, and move cursor to the next one">
                    <a href="#">Run Cells</a></li>
                <li id="clear_current_output"
                    title="Clear the output of the current cell">
                    <a href="#">Clear</a>
                </li>
                <li id="save_checkpoint"><a href="#">Save and Checkpoint</a></li>
                <li id="restart_kernel"
                    title="Restart the Kernel">
                    <a href="#">Restart Kernel</a>
                </li>
                <li style="display:none;" class="dropdown"><a href="#" class="dropdown-toggle" data-toggle="dropdown">Help</a>
                    <ul  id="help_menu" class="dropdown-menu">
                        
                        <li id="notebook_tour" title="A quick tour of the notebook user interface"><a href="#">User Interface Tour</a></li>
                        <li id="keyboard_shortcuts" title="Opens a dialog which shows all keyboard shortcuts"><a href="#">Keyboard Shortcuts</a></li>
                        <li id="edit_keyboard_shortcuts" title="Opens a dialog allowing you to edit Keyboard shortcuts"><a href="#">Edit Keyboard Shortcuts</a></li>
                        <li class="divider"></li>
                        

                        
                            
                                <li><a rel="noreferrer" href="http://nbviewer.ipython.org/github/ipython/ipython/blob/3.x/examples/Notebook/Index.ipynb" target="_blank" title="Opens in a new window">
                                
                                    <i class="fa fa-external-link menu-icon pull-right"></i>
                                

                                Notebook Help
                                </a></li>
                            
                                <li><a rel="noreferrer" href="https://help.github.com/articles/markdown-basics/" target="_blank" title="Opens in a new window">
                                
                                    <i class="fa fa-external-link menu-icon pull-right"></i>
                                

                                Markdown
                                </a></li>
                            
                            
                        
                        <li class="divider"></li>
                        <li title="About Jupyter Notebook"><a id="notebook_about" href="#">About</a></li>
                        
                    </ul>
                </li>
              </ul>
            </div>
        </div>
    </div>
</div>

<div id="maintoolbar" class="navbar hidden">
  <div class="toolbar-inner navbar-inner navbar-nobg">
    <div id="maintoolbar-container" class="container-fluid"></div>
  </div>
</div>
</div>

<div class="lower-header-bar"></div>

      
<div id="ipython-main-app" style="padding-top: 50px">
  <div id="notebook_panel">
    <div id="notebook"></div>
      <div id='tooltip' class='ipython_tooltip' style='display:none'></div>
    </div>
  </div>
</div>

    </div>
  </div>
</div>



<div id="pager">
    <div id="pager-contents">
        <div id="pager-container" class="container"></div>
    </div>
    <div id='pager-button-area'></div>
</div>

<!-- [DST] Modals (dont think it should be here, but where ?) -->

<!-- first, a macro for defining modals -->


<!-- then, another one for defining forms -->


<!-- then, call the macro for each necessary modal -->
<div id="dst-modal-help" class="modal fade" tabindex="-1" role="dialog">
    <div class="modal-dialog" role="document">
        <div class="modal-content">
            <div class="modal-header">
                <button type="button" class="close" data-dismiss="modal" aria-label="Close"><span aria-hidden="true">&times;</span></button>
                <h4 class="modal-title">Contacter l&#39;assistance</h4>
            </div>
            <div class="modal-body">
                

    
<p>Vous rencontrez une difficulté dans l'utilisation de la plateforme ?</p>

<p>Vous avez remarqué un problème dans l'exercice ?</p>

<p>Contactez-nous grâce à ce formulaire et nous reviendrons vers vous dans les plus brefs délais.</p>



<form id="dst-form-help" role="form" style="margin-top: 15px">
    
        
        
        <div class="form-group">
            <label for="dst-form-help-input-1" class="control-label" style="font-weight:bold">Votre message</label>
            
            
            <textarea id="dst-form-help-input-1"
                      class="form-control"
                      name="message"
                      rows=5
                      placeholder="Décrivez le problème que vous avez rencontré"></textarea>
            
        </div>
        

    
        
        
        <div class="form-group">
            <label for="dst-form-help-input-2" class="control-label" style="font-weight:bold">Votre mail de contact</label>
            
            
            
                
                <div class="input-group">
                    <span class="input-group-addon"><i class='fa fa-envelope'></i></span>
                    <input type="text"
                           class="form-control"
                           name="mail"
                           id="dst-form-help-input-2"
                           placeholder="Laissez ce champ vide pour utiliser votre mail d&#39;inscription">
                </div>
                
            
        </div>
        

    
</form>



            </div>
            <div class="modal-footer">
                <button type="button" class="btn btn-default" data-dismiss="modal">Annuler</button>
                
                <button id="dst-modal-help-btn"
                        type="button" class="btn btn-primary">Envoyer</button>
            </div>
        </div><!-- /.modal-content -->
    </div><!-- /.modal-dialog -->
</div><!-- /.modal -->

<div id="dst-modal-comment" class="modal fade" tabindex="-1" role="dialog">
    <div class="modal-dialog" role="document">
        <div class="modal-content">
            <div class="modal-header">
                <button type="button" class="close" data-dismiss="modal" aria-label="Close"><span aria-hidden="true">&times;</span></button>
                <h4 class="modal-title">Vos commentaires</h4>
            </div>
            <div class="modal-body">
                

    
<p>Exercice en cours : <span class='placeholder'></span></p>



<form id="dst-form-comment" role="form" style="margin-top: 15px">
    
        
        
        <div class="form-group">
            <label for="dst-form-comment-input-1" class="control-label" style="font-weight:bold">Commentaire</label>
            
            
            <textarea id="dst-form-comment-input-1"
                      class="form-control"
                      name="comment"
                      rows=5
                      placeholder="Vous n&#39;avez pas encore laissé de commentaire sur cet exercice"></textarea>
            
        </div>
        

    
</form>



            </div>
            <div class="modal-footer">
                <button type="button" class="btn btn-default" data-dismiss="modal">Annuler</button>
                
                <button id="dst-modal-comment-btn"
                        type="button" class="btn btn-primary">Enregistrer</button>
            </div>
        </div><!-- /.modal-content -->
    </div><!-- /.modal-dialog -->
</div><!-- /.modal -->

<div id="dst-modal-change-exo" class="modal fade" tabindex="-1" role="dialog">
    <div class="modal-dialog" role="document">
        <div class="modal-content">
            <div class="modal-header">
                <button type="button" class="close" data-dismiss="modal" aria-label="Close"><span aria-hidden="true">&times;</span></button>
                <h4 class="modal-title">Confirmation de validation</h4>
            </div>
            <div class="modal-body">
                

    <p>
        Vous &ecirc;tes sur le point de changer d'exercice.<br>
        Avez-vous termin&eacute; l'exercice actuel ? Si oui, merci de bien vouloir le valider.
    </p>


            </div>
            <div class="modal-footer">
                <button type="button" class="btn btn-default" data-dismiss="modal">Annuler</button>
                
                    <button type="button"
                            class="btn btn-warning"
                            id="dst-change-exo-novalid">Changer sans valider</button>
                
                <button id="dst-change-exo-valid"
                        type="button" class="btn btn-primary">Valider et changer d&#39;exercice</button>
            </div>
        </div><!-- /.modal-content -->
    </div><!-- /.modal-dialog -->
</div><!-- /.modal -->






<script type="text/javascript">
    sys_info = {"notebook_version": "5.0.0.dev", "notebook_path": "/home/ubuntu/dst_notebook/notebook", "commit_source": "repository", "commit_hash": "23872a8", "sys_version": "3.6.0 |Anaconda custom (64-bit)| (default, Dec 23 2016, 12:22:00) \n[GCC 4.4.7 20120313 (Red Hat 4.4.7-1)]", "sys_executable": "/home/ubuntu/anaconda3/bin/python", "sys_platform": "linux", "platform": "Linux-4.4.0-1061-aws-x86_64-with-debian-stretch-sid", "os_name": "posix", "default_encoding": "UTF-8"};
</script>

<script src="/user/f3b83f2b/static/components/text-encoding/lib/encoding.js?v=d5bb0fc9ffeff7d98a69bb83daa51052" charset="utf-8"></script>

<script src="/user/f3b83f2b/static/notebook/js/main.min.js?v=4ab151c9d58cd8b3902827d6eeac2c02" type="text/javascript" charset="utf-8"></script>

<!-- Start of chat.io (www.chat.io) code -->
<script type="text/javascript">
  (function(c, h, a, t) {
    c[t]=c[t]||function(){(c[t].q=c[t].q||[]).push(arguments)};
    c[t].license = 9740015;
    c[t].d=+new Date;
    var j = h.createElement(a); j.type = 'text/javascript'; j.async = true;
    j.src = 'https://cdn.chatio-static.com/widget/init/script.' + c[t].license + '.js';
    var s = h.getElementsByTagName(a)[0]; s.parentNode.insertBefore(j, s);
  })(window, document, 'script', '__chatio');
</script>
<!-- End of chat.io code -->

<!-- [DST] Custom JS for notebook template -->
<script type="text/javascript">

$('#exercise_name').text(
    $('a.list-group-item.active').attr('displayname')
)

require(['base/js/utils','base/js/namespace'], function(utils, Jupyter) {

    function set_exercise_validation(valid_state) {
        $valid_btn = $('#dst-btn-valid');
        $icon = $valid_btn.children('i');
        $comment_btn = $('#dst-btn-comment');

        // Reset
        // FIXME : what about checking current state instead ?
        $valid_btn.removeClass('btn-danger btn-success');
        $icon.removeClass('fa-check-square fa-minus-square');
        $comment_btn.removeClass('hidden');

        if (valid_state) {
            $valid_btn.addClass('btn-success');
            $icon.addClass('fa-check-square');
        } else {
            $valid_btn.addClass('btn-danger');
            $icon.addClass('fa-minus-square');
            $comment_btn.addClass('hidden');
        }
    }

    // Exercise validation button
    $('#dst-btn-valid').click( function(ev) {
        ev.preventDefault()

        console.log('>> should POST to toggle exo.validation')
        var validation_target_state = ! $(this).hasClass('btn-success')
        utils.ajax("/user/f3b83f2b/api/dst/exercise_validation",
            {
                type: 'POST',
                contentType: 'application/json; charset=utf-8',
                data: JSON.stringify({
                    pack_slug: '',
                    name: 'exam_python.ipynb',
                    value: validation_target_state
                }),
                success: function(json_response) {
                    console.log("Exercise validation set to ", validation_target_state);
                    set_exercise_validation(validation_target_state);
                },
                error: function(response) {
                    var json_response = JSON.parse(response.responseText)
                    console.error("Cannot set exercise validation: " + json_response.error)
                },
            }
        )
    })

    // Fetch the exercise validation state on page load
    utils.ajax("/user/f3b83f2b/api/dst/exercise_validation",
        {
            data: {
                pack_slug: '',
                name: 'exam_python.ipynb',
            },
            success: function(json_response) {
                console.log("The validation state of this exercise is: ", json_response);
                set_exercise_validation(json_response.validation_state)
            },
        }
    )

    // Ask for validation on exercise change
    var links = $('#sidebar-list a')

    for (var i = 0; i < links.length; i++) {
        $(links[i]).click( function(ev) {
            ev.preventDefault()

            console.log($(this))

            // if link to current exo, do nothing
            if (! $(this).hasClass('active')) {

                var target = $(this).attr('href')

                if ($('#dst-btn-valid').hasClass('btn-success')) {
                    // redirect silently
                    window.location.href = target
                } else {
                    // open modal to confirm validation
                    $('#dst-modal-change-exo').modal()


                    // set its button functionality
                    $('#dst-change-exo-valid').click( function() {
                        // post validation
                        console.log('>> should post validation')
                        utils.ajax("/user/f3b83f2b/api/dst/exercise_validation",
                            {
                                type: 'POST',
                                contentType: 'application/json; charset=utf-8',
                                data: JSON.stringify({
                                    pack_slug: '',
                                    name: 'exam_python.ipynb',
                                    value: true
                                }),
                                success: function(json_response) {
                                    console.log("Exercise validation set to ", true)
                                    set_exercise_validation(true)

                                    // redirect after successful validation
                                    window.location.href = target
                                },
                                error: function(response) {
                                    var json_response = JSON.parse(response.responseText)
                                    console.error("Cannot set exercise validation: " + json_response.error)
                                },
                            }
                        )

                        // and redirect on success
                        window.location.href = target
                    })
                    $('#dst-change-exo-novalid').click( function() {
                        // redirect without validation
                        window.location.href = target
                    })
                }
            }
        })
    }

    // Help button
    $('#dst-btn-help').click( function() {
        $('#dst-modal-help').modal()
    })

    // Help modal action
    $('#dst-modal-help-btn').click( function() {
        var message = $('#dst-form-help').find('[name="message"]').val()
        var mail = $('#dst-form-help').find('[name="mail"]').val()

        utils.ajax("/user/f3b83f2b/api/dst/help_mail",
            {
                type: 'POST',
                contentType: 'application/json; charset=utf-8',
                data: JSON.stringify({
                    message: message,
                    mail: mail
                }),
                success: function(json_response) {
                    console.log("Help mail was sent for ", mail);
                },
                error: function(response) {
                    var json_response = JSON.parse(response.responseText)
                    console.error("Cannot send mail: " + json_response.error)
                },
            }
        )

        $('#dst-modal-help').modal('hide')
    })

    // Comment button
    $('#dst-btn-comment').click( function() {
        $('#dst-modal-comment').modal()
    })

    // Comment modal init
    var current_exo = $('#sidebar-list a.active').text().trim()
    $('#dst-modal-comment .placeholder').text(current_exo)

    // Comment modal action
    $('#dst-modal-comment-btn').click( function() {
        var comment = $('#dst-form-comment').find('textarea').val()

        utils.ajax("/user/f3b83f2b/api/dst/exercise_comment",
            {
                type: 'POST',
                contentType: 'application/json; charset=utf-8',
                data: JSON.stringify({
                    pack_slug: '',
                    name: 'exam_python.ipynb',
                    comment: comment
                }),
                success: function(json_response) {
                    console.log("Update comment : ", comment)
                },
                error: function(response) {
                    var json_response = JSON.parse(response.responseText)
                    console.error("Cannot update comment: " + json_response.error)
                },
            }
        )

        $('#dst-modal-comment').modal('hide')
    })

    // Fetch comment on page load
    utils.ajax("/user/f3b83f2b/api/dst/exercise_comment",
        {
            data: {
                pack_slug: '',
                name: 'exam_python.ipynb',
            },
            success: function(json_response) {
                var comment = json_response.comment

                if (comment != 'n/a') {
                    $('#dst-form-comment').find('textarea').val(json_response.comment)
                    console.log("retrieved comment : ", json_response.comment)
                }
            },
        }
    )

    // Keyboard-manager issues
    function km_fix( el_id ) {
        $(el_id).on('shown.bs.modal', function(){
            Jupyter.keyboard_manager.disable()
        })

        $(el_id).on('hidden.bs.modal', function(){
            var cell = Jupyter.notebook.get_selected_cell()
            if (cell) {
                console.log(cell)
                cell.select()
            }

            Jupyter.keyboard_manager.enable()
            Jupyter.keyboard_manager.command_mode()
        })
    }
    km_fix('#dst-modal-help')
    km_fix('#dst-modal-comment')

    // /!\ we should also add the draggable functionality
    //     since styling changes the cursor (confusing)

    // Activate tooltips
    $('[data-toggle="tooltip"]').tooltip()

    // Header modifications (FIXME : find more natural way to do this)
    Jupyter.toolbar.toggle()
    $('#header').css('background-color', '#0B5345')
        .css('color', '#fff')

})

</script>

<style>

    a.list-group-item {
        background-color: #138d75;
        border-color: #0b5345;
        color: #0b5345;
    }

    a.list-group-item.active {
        background-color: #0b5345;
        border-color: #0b5345;
    }

    a.list-group-item:hover {
        background-color: #17a589;
    }

    a.list-group-item.active:hover {
        background-color: #0b5345;
        border-color: #0b5345;
        cursor: default;
    }

    #dst-hub-nav a.dropdown-toggle:hover,
    #dst-hub-nav a.dropdown-toggle:focus {
        background-color: #0b5345;
    }

    #sidebar div.btn-group {
        padding-bottom: 75px;
    }

</style>

<script src="https://cdn.jsdelivr.net/semantic-ui/2.2/semantic.min.js"></script>
<script>

function save_html() {
  require(["base/js/namespace"],function(Jupyter) {
    Jupyter.notebook.save_checkpoint();
  });
  var split = window.location.href.split("f3b83f2b" + "/notebooks/");
  var url = split[0] + "f3b83f2b" + "/save_html/exam_python.ipynb";
  console.log("Timeout saving notebook...");
  setTimeout(function() {
    $.get(url).then((res)=> console.log("HTML SAVED"));
  }, 5000);
}

saveInterval = setInterval(function() {
console.log("SAVE");
save_html();
}, 1000 * 60 * 5);

function finishTest() {
  $("#save_checkpoint").trigger("click");
  $('#header').transition('swing down');
  $('.fmtext1').html('<p>Validation du test</p>');
  $('.fmtext2').html('<p>Please wait...</p>');
  $(".fm1").animate({height: '50%'});
  $(".fm2").animate({top: '50%'});
  setTimeout(function() {
    var token = "f3b83f2b";
    var split = window.location.href.split(token + "/notebooks/");
    var filename = split[1];
    if (filename.slice(-1) == '#') {
      filename = filename.slice(0, -1);
    }
    var timestamp = Math.round($.now() / 1000);
    var url = split[0] + token + "/api/dst/end_test";
    $.get(url, {'token': token.toUpperCase(), 'filename': filename, 'timestamp': timestamp})
      .done(function(data) {
        window.location.replace('https://admin.datascientest.com/eval/feedback/' + token.toUpperCase());
      })
      .fail(function(data) {
        window.location.replace('http://datascientest.fr/eval/page/error.html');
      });
  }, 2000);
}

  $(document).ready(function() {

    var width = 100, // width of a progress bar in percentage
    perfData = window.performance.timing, // The PerformanceTiming interface
    EstimatedTime = -(perfData.loadEventEnd - perfData.navigationStart), // Calculated Estimated Time of Page Load which returns negative value.
    time = parseInt((EstimatedTime/1000)%60)*100; //Converting EstimatedTime from miliseconds to seconds.
    $("#progress_bar").animate({ width: width + "%" }, time);

    $("#time_button").click(function() {
      $("#time").transition('slide left');
      if ($("#hide_icon").hasClass("hide")) {
        $("#hide_icon").removeClass("hide");
        $("#hide_icon").addClass("unhide");
      } else {
        $("#hide_icon").removeClass("unhide");
        $("#hide_icon").addClass("hide");
      }
    });

    $("#btn_run_cell").click(function() {
      $("#run_cell").trigger("click");
    });
    $("#btn_clear_current_output").click(function() {
      $("#clear_current_output").trigger("click");
    });
    $("#btn_restart_kernel").click(function() {
      $("#btn_restart_kernel").addClass("disabled");
      $("#btn_restart_kernel").html('<i class="repeat icon"></i>Restarting...');
      $("#restart_kernel_dimmer").dimmer("show");
      $("#restart_kernel").trigger("click");
      setTimeout(function() {
        $("#btn_restart_kernel").removeClass("disabled");
        $("#restart_kernel_dimmer").dimmer("hide");
        $("#btn_restart_kernel").html('<i class="repeat icon"></i>Restart kernel');
      }, 3000);
    });

    $('#finish_button').click(function() {
      // $("#restart_kernel_dimmer").find(".ui.inverted.icon.header").html('<i class="repeat icon"></i>Validation du test<div class="sub header">Please wait...</div>')
      // $("#restart_kernel_dimmer").dimmer("show");
      $('.ui.modal').modal({
        closable  : false,
        onApprove : function() {
          $('#finish_button').addClass('disabled');
          setTimeout(function() {
            finishTest();
          }, 500);

        }
      }).modal('show')

    });

    $('.ui.accordion > .title').click(function(elem) {
      index = $('.ui.accordion > .title').index($(this));
      element = $($('#notebook-container').find('h1,h3')[index + 1]);
      $('#site').animate({
          scrollTop: $(element).parent().parent().offset().top - 45
        }, 1000);
    });

  });

  // $('.fm1').hide(); //
  // $('.fm2').hide(); //
  // $('#header').transition('swing down'); //

  function getTimerInfo(now_timerinfo){
    var result = null;
    $.ajax({
      url: window.location.protocol + "//" + window.location.hostname + ":" + window.location.port + "/script/timer",
      type: 'get',
      data: {'token' : "f3b83f2b".toUpperCase(), 'status': 'start', 'timestamp': Math.round(now_timerinfo)},
      dataType: 'json',
      success: function(data) {
        console.log("done");
        result = data;
      },
      fail: function() {
        console.log("fail");
        window.location.replace('https://www.google.fr/search?ei=jd7xWbviG4v1auzIprAI&q=PAGE+D%27ERREUR&oq=PAGE+D%27ERREUR&gs_l=psy-ab.12..0l4j0i22i30k1l6.12216.13928.0.15791.10.10.0.0.0.0.127.994.1j8.9.0....0...1.1.64.psy-ab..1.9.993...35i39k1j0i67k1j0i10k1.0.Ffb1MUALbMI');
      },
      async: false
    });
    console.log("end");
    return (result);
  }

  $(window).load(function() {
    // return; //

    timerInterval = setInterval(function() {
      now = $.now() / 1000;
      displayTime = examTime - (now - startedTime);
      displayTime = displayTime <= 0 ? 0 : displayTime;
      minute = Math.trunc(displayTime / 60);
      second = Math.trunc(displayTime % 60);
      $("#time > div").text((minute < 10 ? '0' : '') + minute + ":" + (second < 10 ? '0' : '') + second);
      $(".fmtext1 > p").text((minute < 10 ? '0' : '') + minute + ":" + (second < 10 ? '0' : '') + second);
      animation = $("#hide_icon").hasClass("hide") ? $("#time > div") : $("#hide_icon");
      if (minute < 2) {
        $(animation).transition("flash");
        $("#time > div").css('color', 'red');
        $("#time_button > .ui.icon.button").css('background-color', 'red');
      } else if (minute < 5) {
        $("#time > div").css('color', 'orange');
        $("#time_button > .ui.icon.button").css('background-color', 'orange');
      }
      if (displayTime <= 0) {
        displayTime = 0;
        $("#time > div").text("End");
        clearInterval(timerInterval);
        finishTest();
      }
    }, 500);

    now_timerinfo = Math.round($.now() / 1000);
    timerInfo = getTimerInfo(now_timerinfo);

    startedTime = timerInfo.timestamp;//$.now() / 1000;//1508860738;
    examTime = 60 * timerInfo.duration;
    displayTime = examTime - (now_timerinfo - startedTime);
    displayTime = displayTime <= 0 ? 0 : displayTime;
    minute = Math.trunc(displayTime / 60);
    second = Math.trunc(displayTime % 60);
    $("#time > div").text((minute < 10 ? '0' : '') + minute + ":" + (second < 10 ? '0' : '') + second);
    $(".fmtext1 > p").text((minute < 10 ? '0' : '') + minute + ":" + (second < 10 ? '0' : '') + second);
    $(".fmtext1 > p").animate({'font-size': '10em'});
    $(".fmtext2 > p").text("Good luck for your test !");


      if (displayTime <= 0) {
        return;
      }

      setTimeout(function() {
        $(".fm1").animate({height: '0%'});
        $(".fm2").animate({top: '100%'});
      }, 1000);
      setTimeout(function() {
        $('#header').transition('swing down');
      }, 1500);
      setTimeout(function() {
        $('.ui.accordion > .title').transition('slide right');
      }, 2000);
  });
</script>


</body>

</html>